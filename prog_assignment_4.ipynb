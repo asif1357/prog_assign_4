{
 "cells": [
  {
   "cell_type": "code",
   "execution_count": 5,
   "id": "2f408f0c",
   "metadata": {},
   "outputs": [
    {
     "name": "stdout",
     "output_type": "stream",
     "text": [
      "40320\n"
     ]
    }
   ],
   "source": [
    "#prog_1\n",
    "def facto(n):\n",
    "    if n==1 or n==0:\n",
    "        return 1\n",
    "    else:\n",
    "        n=n*facto(n-1)\n",
    "        return n\n",
    "print(facto(8))\n"
   ]
  },
  {
   "cell_type": "code",
   "execution_count": 7,
   "id": "dd8755ec",
   "metadata": {},
   "outputs": [
    {
     "name": "stdout",
     "output_type": "stream",
     "text": [
      "enter a positive integer : \n",
      "None5\n",
      "5 * 1 = 5\n",
      "5 * 2 = 10\n",
      "5 * 3 = 15\n",
      "5 * 4 = 20\n",
      "5 * 5 = 25\n",
      "5 * 6 = 30\n",
      "5 * 7 = 35\n",
      "5 * 8 = 40\n",
      "5 * 9 = 45\n",
      "5 * 10 = 50\n"
     ]
    }
   ],
   "source": [
    "#prog_2\n",
    "k=int(input(print(\"enter a positive integer : \")))\n",
    "for i in range(1,11):\n",
    "    print(\"{} * {} = {}\".format(k,i,i*k))\n"
   ]
  },
  {
   "cell_type": "code",
   "execution_count": 25,
   "id": "8ab114f9",
   "metadata": {},
   "outputs": [
    {
     "data": {
      "text/plain": [
       "[1, 1, 2, 3, 5, 8, 13, 21]"
      ]
     },
     "execution_count": 25,
     "metadata": {},
     "output_type": "execute_result"
    }
   ],
   "source": [
    "#prog_3\n",
    "def fibo(m):\n",
    "    nm1=1\n",
    "    nm2=1\n",
    "    lt=[]\n",
    "    for j in range(m):\n",
    "        lt.append(nm1)\n",
    "        nm1,nm2 = nm2,nm1+nm2\n",
    "    return lt\n",
    "fibo(8)\n",
    "\n",
    "        \n",
    "        \n",
    "    "
   ]
  },
  {
   "cell_type": "code",
   "execution_count": 30,
   "id": "2d061540",
   "metadata": {},
   "outputs": [
    {
     "name": "stdout",
     "output_type": "stream",
     "text": [
      "enter number : 153\n",
      "the entered number is armstrong num\n"
     ]
    }
   ],
   "source": [
    "#prog_4\n",
    "num=int(input(\"enter number : \"))\n",
    "summation=0\n",
    "width=len(str(num))\n",
    "temp=num\n",
    "while num>0:\n",
    "    digit=num%10\n",
    "    summation+=digit**width\n",
    "    num=num//10\n",
    "if summation==temp:\n",
    "    print(\"the entered number is armstrong num\")\n",
    "else :\n",
    "    print(\"not an armstrong num\")"
   ]
  },
  {
   "cell_type": "code",
   "execution_count": 37,
   "id": "98ac243e",
   "metadata": {},
   "outputs": [
    {
     "name": "stdout",
     "output_type": "stream",
     "text": [
      "enter lower bound 100\n",
      "enter upper bound 500\n",
      "the armstrong num is :  153\n",
      "the armstrong num is :  370\n",
      "the armstrong num is :  371\n",
      "the armstrong num is :  407\n"
     ]
    }
   ],
   "source": [
    "#prog_5\n",
    "lower_b=int(input(\"enter lower bound \"))\n",
    "upper_b=int(input(\"enter upper bound \"))\n",
    "for i in range (lower_b,upper_b+1):\n",
    "    num=i\n",
    "    summation1=0\n",
    "    width=len(str(num))\n",
    "    temp=num\n",
    "    while num>0:\n",
    "        digit=num%10\n",
    "        summation1+=digit**width\n",
    "        num=num//10\n",
    "    if summation1==temp:\n",
    "        print(\"the armstrong num is : \",i)\n",
    "    else :\n",
    "        continue\n",
    "        \n",
    "    "
   ]
  },
  {
   "cell_type": "code",
   "execution_count": 42,
   "id": "8835fe78",
   "metadata": {},
   "outputs": [
    {
     "name": "stdout",
     "output_type": "stream",
     "text": [
      "enter any natural num : 6\n",
      "sum of 6 numbers is 21\n"
     ]
    }
   ],
   "source": [
    "#prog_6\n",
    "num2=int(input(\"enter any natural num : \"))\n",
    "sum2 =int((num2*(num2+1))/2)\n",
    "print(\"sum of {0} numbers is {1}\".format(num2,sum2))\n"
   ]
  },
  {
   "cell_type": "code",
   "execution_count": null,
   "id": "c6301c5a",
   "metadata": {},
   "outputs": [],
   "source": []
  }
 ],
 "metadata": {
  "kernelspec": {
   "display_name": "Python 3 (ipykernel)",
   "language": "python",
   "name": "python3"
  },
  "language_info": {
   "codemirror_mode": {
    "name": "ipython",
    "version": 3
   },
   "file_extension": ".py",
   "mimetype": "text/x-python",
   "name": "python",
   "nbconvert_exporter": "python",
   "pygments_lexer": "ipython3",
   "version": "3.9.12"
  }
 },
 "nbformat": 4,
 "nbformat_minor": 5
}
